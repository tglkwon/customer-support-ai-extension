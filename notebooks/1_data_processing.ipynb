{
 "cells": [
  {
   "cell_type": "markdown",
   "metadata": {},
   "source": [
    "# 1. 데이터 처리 (Data Processing)\n",
    "\n",
    "**목표:** `google_play_reviews_integrated.csv` 원본 데이터를 탐색하고, AI 모델 학습에 적합한 'prompt'와 'completion' 형식의 `training_data.csv`를 생성합니다."
   ]
  },
  {
   "cell_type": "markdown",
   "metadata": {},
   "source": [
    "## 1.1. 라이브러리 임포트 및 설정"
   ]
  },
  {
   "cell_type": "code",
   "execution_count": null,
   "metadata": {},
   "outputs": [],
   "source": [
    "import pandas as pd\n",
    "import numpy as np\n",
    "import matplotlib.pyplot as plt\n",
    "import seaborn as sns\n",
    "\n",
    "# 한글 폰트 설정 (Windows)\n",
    "plt.rc('font', family='Malgun Gothic')\n",
    "\n",
    "# 마이너스 부호 깨짐 방지\n",
    "plt.rcParams['axes.unicode_minus'] = False"
   ]
  },
  {
   "cell_type": "markdown",
   "metadata": {},
   "source": [
    "## 1.2. 데이터 불러오기"
   ]
  },
  {
   "cell_type": "code",
   "execution_count": null,
   "metadata": {},
   "outputs": [],
   "source": [
    "input_file_path = '../data/processed_data/google_play_reviews_integrated.csv'\n",
    "output_file_path = '../data/processed_data/training_data.csv'\n",
    "\n",
    "try:\n",
    "    df = pd.read_csv(input_file_path)\n",
    "    print(f"'{input_file_path}' 파일을 성공적으로 불러왔습니다.")\n",
    "except FileNotFoundError:\n",
    "    print(f"오류: 파일을 찾을 수 없습니다. 경로를 확인하세요: {input_file_path}")"
   ]
  },
  {
   "cell_type": "markdown",
   "metadata": {},
   "source": [
    "## 1.3. 데이터 탐색 (Exploratory Data Analysis)"
   ]
  },
  {
   "cell_type": "code",
   "execution_count": null,
   "metadata": {},
   "outputs": [],
   "source": [
    "print("--- 데이터 샘플 (상위 5개) ---")\n",
    "display(df.head())"
   ]
  },
  {
   "cell_type": "code",
   "execution_count": null,
   "metadata": {},
   "outputs": [],
   "source": [
    "print("\n--- 데이터 정보 (데이터 타입, 결측치 등) ---")\n",
    "df.info()"
   ]
  },
  {
   "cell_type": "code",
   "execution_count": null,
   "metadata": {},
   "outputs": [],
   "source": [
    "# 별점 분포 시각화\n",
    "plt.figure(figsize=(10, 6))\n",
    "sns.countplot(data=df, x='Star Rating')\n",
    "plt.title('리뷰 별점 분포')\n",
    "plt.xlabel('별점')\n",
    "plt.ylabel('리뷰 수')\n",
    "plt.show()"
   ]
  },
  {
   "cell_type": "markdown",
   "metadata": {},
   "source": [
    "## 1.4. 데이터 전처리 및 학습 데이터셋 생성"
   ]
  },
  {
   "cell_type": "code",
   "execution_count": null,
   "metadata": {},
   "outputs": [],
   "source": [
    "# 'Developer Reply Text' 열이 비어있는 행은 학습에 사용할 수 없으므로 제거합니다.\n",
    "print(f"원본 데이터 크기: {df.shape}")\n",
    "df.dropna(subset=['Developer Reply Text'], inplace=True)\n",
    "df = df[df['Developer Reply Text'].str.strip() != '']\n",
    "print(f"답변이 있는 데이터 크기: {df.shape}")"
   ]
  },
  {
   "cell_type": "code",
   "execution_count": null,
   "metadata": {},
   "outputs": [],
   "source": [
    "def create_prompt(row):\n",
    "    # 'Developer Reply Text' 열을 제외한 모든 열을 prompt로 구성\n",
    "    prompt_cols = row.drop('Developer Reply Text')\n",
    "    # 각 열에 대해 \"키: 값\" 형식의 문자열을 만들고 줄바꿈으로 연결\n",
    "    return '\n'.join([f\"{col}: {val}\" for col, val in prompt_cols.items()])\n",
    "\n",
    "# prompt 생성\n",
    "prompts = df.apply(create_prompt, axis=1)\n",
    "\n",
    "# completion 은 'Developer Reply Text' 열\n",
    "completions = df['Developer Reply Text'].astype(str).str.strip()\n",
    "\n",
    "# 새로운 데이터프레임 생성\n",
    "training_df = pd.DataFrame({\n",
    "    'prompt': prompts,\n",
    "    'completion': completions\n",
    "})\n",
    "\n",
    "print("학습 데이터셋 생성 완료.")"
   ]
  },
  {
   "cell_type": "markdown",
   "metadata": {},
   "source": [
    "## 1.5. 생성된 데이터셋 확인 및 저장"
   ]
  },
  {
   "cell_type": "code",
   "execution_count": null,
   "metadata": {},
   "outputs": [],
   "source": [
    "print(f"최종 데이터셋 크기: {training_df.shape}")\n",
    "print("\n--- 생성된 데이터 샘플 ---")\n",
    "for i in range(min(3, len(training_df))):\n",
    "    print("[PROMPT]")\n",
    "    print(training_df.iloc[i]['prompt'])\n",
    "    print("\n[COMPLETION]")\n",
    "    print(training_df.iloc[i]['completion'])\n",
    "    print("------------------------------------\n")"
   ]
  },
  {
   "cell_type": "code",
   "execution_count": null,
   "metadata": {},
   "outputs": [],
   "source": [
    "# 파일로 저장\n",
    "training_df.to_csv(output_file_path, index=False, encoding='utf-8-sig')\n",
    "\n",
    "print(f"학습 데이터가 성공적으로 '{output_file_path}' 에 저장되었습니다.")"
   ]
  }
 ],
 "metadata": {
  "kernelspec": {
   "display_name": "Python 3",
   "language": "python",
   "name": "python3"
  },
  "language_info": {
   "codemirror_mode": {
    "name": "ipython",
    "version": 3
   },
   "file_extension": ".py",
   "mimetype": "text/x-python",
   "name": "python",
   "nbconvert_exporter": "python",
   "pygments_lexer": "ipython3",
   "version": "3.9.7"
  }
 },
 "nbformat": 4,
 "nbformat_minor": 4
}